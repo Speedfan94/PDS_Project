{
 "cells": [
  {
   "cell_type": "code",
   "execution_count": 14,
   "metadata": {},
   "outputs": [
    {
     "name": "stdout",
     "output_type": "stream",
     "text": [
      "2.0.0\n"
     ]
    }
   ],
   "source": [
    "import pandas as pd\n",
    "import numpy as np\n",
    "import matplotlib.pyplot as plt\n",
    "import seaborn as sns\n",
    "\n",
    "from sklearn import metrics\n",
    "from sklearn.model_selection import train_test_split\n",
    "from sklearn.preprocessing import StandardScaler\n",
    "import tensorflow as tf\n",
    "from tensorflow import keras\n",
    "from tensorflow.keras import layers\n",
    "\n",
    "print(tf.__version__)"
   ]
  },
  {
   "cell_type": "code",
   "execution_count": 15,
   "metadata": {},
   "outputs": [],
   "source": [
    "path_data = \"../nextbike/data/\""
   ]
  },
  {
   "cell_type": "code",
   "execution_count": 18,
   "metadata": {},
   "outputs": [
    {
     "data": {
      "text/html": [
       "<div>\n",
       "<style scoped>\n",
       "    .dataframe tbody tr th:only-of-type {\n",
       "        vertical-align: middle;\n",
       "    }\n",
       "\n",
       "    .dataframe tbody tr th {\n",
       "        vertical-align: top;\n",
       "    }\n",
       "\n",
       "    .dataframe thead th {\n",
       "        text-align: right;\n",
       "    }\n",
       "</style>\n",
       "<table border=\"1\" class=\"dataframe\">\n",
       "  <thead>\n",
       "    <tr style=\"text-align: right;\">\n",
       "      <th></th>\n",
       "      <th>p_place_type_start</th>\n",
       "      <th>Start Time</th>\n",
       "      <th>Bike Number</th>\n",
       "      <th>p_uid_start</th>\n",
       "      <th>p_bikes_start</th>\n",
       "      <th>Latitude_start</th>\n",
       "      <th>b_bike_type_start</th>\n",
       "      <th>Start Place_id</th>\n",
       "      <th>Longitude_start</th>\n",
       "      <th>p_place_type_end</th>\n",
       "      <th>...</th>\n",
       "      <th>plz_start</th>\n",
       "      <th>plz_end</th>\n",
       "      <th>month</th>\n",
       "      <th>day</th>\n",
       "      <th>hour</th>\n",
       "      <th>p_spot_start</th>\n",
       "      <th>p_bike_start</th>\n",
       "      <th>p_spot_end</th>\n",
       "      <th>p_bike_end</th>\n",
       "      <th>Weekend</th>\n",
       "    </tr>\n",
       "  </thead>\n",
       "  <tbody>\n",
       "    <tr>\n",
       "      <th>159379</th>\n",
       "      <td>0</td>\n",
       "      <td>1964910592</td>\n",
       "      <td>90456</td>\n",
       "      <td>66128</td>\n",
       "      <td>6</td>\n",
       "      <td>49.435605</td>\n",
       "      <td>71</td>\n",
       "      <td>4635.0</td>\n",
       "      <td>11.116642</td>\n",
       "      <td>0</td>\n",
       "      <td>...</td>\n",
       "      <td>90478</td>\n",
       "      <td>90478</td>\n",
       "      <td>10</td>\n",
       "      <td>28</td>\n",
       "      <td>16</td>\n",
       "      <td>1</td>\n",
       "      <td>0</td>\n",
       "      <td>1</td>\n",
       "      <td>0</td>\n",
       "      <td>0</td>\n",
       "    </tr>\n",
       "    <tr>\n",
       "      <th>96251</th>\n",
       "      <td>12</td>\n",
       "      <td>-1346723840</td>\n",
       "      <td>90264</td>\n",
       "      <td>23480940</td>\n",
       "      <td>1</td>\n",
       "      <td>49.460867</td>\n",
       "      <td>71</td>\n",
       "      <td>0.0</td>\n",
       "      <td>11.071942</td>\n",
       "      <td>12</td>\n",
       "      <td>...</td>\n",
       "      <td>90419</td>\n",
       "      <td>90403</td>\n",
       "      <td>10</td>\n",
       "      <td>15</td>\n",
       "      <td>17</td>\n",
       "      <td>0</td>\n",
       "      <td>1</td>\n",
       "      <td>0</td>\n",
       "      <td>1</td>\n",
       "      <td>0</td>\n",
       "    </tr>\n",
       "    <tr>\n",
       "      <th>130662</th>\n",
       "      <td>12</td>\n",
       "      <td>-1459361792</td>\n",
       "      <td>90361</td>\n",
       "      <td>26340037</td>\n",
       "      <td>1</td>\n",
       "      <td>49.452400</td>\n",
       "      <td>71</td>\n",
       "      <td>0.0</td>\n",
       "      <td>11.076376</td>\n",
       "      <td>12</td>\n",
       "      <td>...</td>\n",
       "      <td>90403</td>\n",
       "      <td>90403</td>\n",
       "      <td>12</td>\n",
       "      <td>26</td>\n",
       "      <td>0</td>\n",
       "      <td>0</td>\n",
       "      <td>1</td>\n",
       "      <td>0</td>\n",
       "      <td>1</td>\n",
       "      <td>0</td>\n",
       "    </tr>\n",
       "    <tr>\n",
       "      <th>37739</th>\n",
       "      <td>12</td>\n",
       "      <td>2096967680</td>\n",
       "      <td>90102</td>\n",
       "      <td>22736934</td>\n",
       "      <td>1</td>\n",
       "      <td>49.447022</td>\n",
       "      <td>71</td>\n",
       "      <td>0.0</td>\n",
       "      <td>11.057963</td>\n",
       "      <td>12</td>\n",
       "      <td>...</td>\n",
       "      <td>90443</td>\n",
       "      <td>90429</td>\n",
       "      <td>9</td>\n",
       "      <td>29</td>\n",
       "      <td>10</td>\n",
       "      <td>0</td>\n",
       "      <td>1</td>\n",
       "      <td>0</td>\n",
       "      <td>1</td>\n",
       "      <td>1</td>\n",
       "    </tr>\n",
       "    <tr>\n",
       "      <th>8659</th>\n",
       "      <td>12</td>\n",
       "      <td>-549580800</td>\n",
       "      <td>90026</td>\n",
       "      <td>25390506</td>\n",
       "      <td>1</td>\n",
       "      <td>49.459040</td>\n",
       "      <td>71</td>\n",
       "      <td>0.0</td>\n",
       "      <td>11.096041</td>\n",
       "      <td>12</td>\n",
       "      <td>...</td>\n",
       "      <td>90489</td>\n",
       "      <td>90409</td>\n",
       "      <td>11</td>\n",
       "      <td>28</td>\n",
       "      <td>9</td>\n",
       "      <td>0</td>\n",
       "      <td>1</td>\n",
       "      <td>0</td>\n",
       "      <td>1</td>\n",
       "      <td>0</td>\n",
       "    </tr>\n",
       "  </tbody>\n",
       "</table>\n",
       "<p>5 rows × 28 columns</p>\n",
       "</div>"
      ],
      "text/plain": [
       "        p_place_type_start  Start Time  Bike Number  p_uid_start  \\\n",
       "159379                   0  1964910592        90456        66128   \n",
       "96251                   12 -1346723840        90264     23480940   \n",
       "130662                  12 -1459361792        90361     26340037   \n",
       "37739                   12  2096967680        90102     22736934   \n",
       "8659                    12  -549580800        90026     25390506   \n",
       "\n",
       "        p_bikes_start  Latitude_start  b_bike_type_start  Start Place_id  \\\n",
       "159379              6       49.435605                 71          4635.0   \n",
       "96251               1       49.460867                 71             0.0   \n",
       "130662              1       49.452400                 71             0.0   \n",
       "37739               1       49.447022                 71             0.0   \n",
       "8659                1       49.459040                 71             0.0   \n",
       "\n",
       "        Longitude_start  p_place_type_end  ...  plz_start  plz_end  month  \\\n",
       "159379        11.116642                 0  ...      90478    90478     10   \n",
       "96251         11.071942                12  ...      90419    90403     10   \n",
       "130662        11.076376                12  ...      90403    90403     12   \n",
       "37739         11.057963                12  ...      90443    90429      9   \n",
       "8659          11.096041                12  ...      90489    90409     11   \n",
       "\n",
       "        day  hour  p_spot_start  p_bike_start  p_spot_end  p_bike_end  Weekend  \n",
       "159379   28    16             1             0           1           0        0  \n",
       "96251    15    17             0             1           0           1        0  \n",
       "130662   26     0             0             1           0           1        0  \n",
       "37739    29    10             0             1           0           1        1  \n",
       "8659     28     9             0             1           0           1        0  \n",
       "\n",
       "[5 rows x 28 columns]"
      ]
     },
     "execution_count": 18,
     "metadata": {},
     "output_type": "execute_result"
    }
   ],
   "source": [
    "df = pd.read_csv(path_data+\"output/Features.csv\", index_col=\"Unnamed: 0\")\n",
    "df.sample(5)"
   ]
  },
  {
   "cell_type": "code",
   "execution_count": 22,
   "metadata": {},
   "outputs": [],
   "source": [
    "X = df.drop(\"Duration\", axis=1)\n",
    "y = df[\"Duration\"]\n",
    "X_train, X_test, y_train, y_test = train_test_split(X, y, test_size=0.3, random_state=42)"
   ]
  },
  {
   "cell_type": "code",
   "execution_count": 23,
   "metadata": {},
   "outputs": [
    {
     "data": {
      "text/plain": [
       "StandardScaler(copy=True, with_mean=True, with_std=True)"
      ]
     },
     "execution_count": 23,
     "metadata": {},
     "output_type": "execute_result"
    }
   ],
   "source": [
    "st_scaler = StandardScaler()\n",
    "st_scaler.fit(X_train)"
   ]
  },
  {
   "cell_type": "code",
   "execution_count": 24,
   "metadata": {},
   "outputs": [],
   "source": [
    "X_train_scaled = st_scaler.transform(X_train)"
   ]
  },
  {
   "cell_type": "markdown",
   "metadata": {},
   "source": [
    "# NN PART"
   ]
  },
  {
   "cell_type": "code",
   "execution_count": 111,
   "metadata": {},
   "outputs": [],
   "source": [
    "model = keras.Sequential(\n",
    "    [layers.Dense(36, activation=\"relu\", input_shape=[X_train.shape[1]]),\n",
    "    layers.Dense(36, activation=\"relu\"),\n",
    "    layers.Dense(1)])"
   ]
  },
  {
   "cell_type": "code",
   "execution_count": 112,
   "metadata": {},
   "outputs": [],
   "source": [
    "optimizer = keras.optimizers.Adam()"
   ]
  },
  {
   "cell_type": "code",
   "execution_count": 113,
   "metadata": {},
   "outputs": [],
   "source": [
    "model.compile(loss=\"mse\",\n",
    "             optimizer=optimizer,\n",
    "             metrics=[\"mae\", \"mse\"])"
   ]
  },
  {
   "cell_type": "code",
   "execution_count": 114,
   "metadata": {},
   "outputs": [
    {
     "name": "stdout",
     "output_type": "stream",
     "text": [
      "Model: \"sequential_8\"\n",
      "_________________________________________________________________\n",
      "Layer (type)                 Output Shape              Param #   \n",
      "=================================================================\n",
      "dense_27 (Dense)             (None, 36)                1008      \n",
      "_________________________________________________________________\n",
      "dense_28 (Dense)             (None, 36)                1332      \n",
      "_________________________________________________________________\n",
      "dense_29 (Dense)             (None, 1)                 37        \n",
      "=================================================================\n",
      "Total params: 2,377\n",
      "Trainable params: 2,377\n",
      "Non-trainable params: 0\n",
      "_________________________________________________________________\n"
     ]
    }
   ],
   "source": [
    "model.summary()"
   ]
  },
  {
   "cell_type": "code",
   "execution_count": 115,
   "metadata": {},
   "outputs": [],
   "source": [
    "#model.predict(X_train_scaled[:10])"
   ]
  },
  {
   "cell_type": "code",
   "execution_count": 116,
   "metadata": {},
   "outputs": [
    {
     "name": "stdout",
     "output_type": "stream",
     "text": [
      "Train on 99669 samples, validate on 24918 samples\n",
      "Epoch 1/10\n",
      "99669/99669 [==============================] - 19s 193us/sample - loss: 36.8716 - mae: 3.3974 - mse: 36.8716 - val_loss: 21.4777 - val_mae: 1.9076 - val_mse: 21.4778\n",
      "Epoch 2/10\n",
      "99669/99669 [==============================] - 13s 130us/sample - loss: 19.0794 - mae: 1.6862 - mse: 19.0794 - val_loss: 17.4951 - val_mae: 1.4261 - val_mse: 17.4951\n",
      "Epoch 3/10\n",
      "99669/99669 [==============================] - 11s 112us/sample - loss: 16.9252 - mae: 1.4653 - mse: 16.9252 - val_loss: 16.2153 - val_mae: 1.3066 - val_mse: 16.2153\n",
      "Epoch 4/10\n",
      "99669/99669 [==============================] - 12s 123us/sample - loss: 16.0587 - mae: 1.3835 - mse: 16.0587 - val_loss: 16.1528 - val_mae: 1.4912 - val_mse: 16.1528\n",
      "Epoch 5/10\n",
      "99669/99669 [==============================] - 19s 188us/sample - loss: 15.6246 - mae: 1.3279 - mse: 15.6246 - val_loss: 15.2179 - val_mae: 1.1487 - val_mse: 15.2179\n",
      "Epoch 6/10\n",
      "99669/99669 [==============================] - 18s 180us/sample - loss: 15.3029 - mae: 1.2995 - mse: 15.3030 - val_loss: 15.4966 - val_mae: 1.2329 - val_mse: 15.4966\n",
      "Epoch 7/10\n",
      "99669/99669 [==============================] - 21s 208us/sample - loss: 15.0815 - mae: 1.2713 - mse: 15.0815 - val_loss: 14.8620 - val_mae: 1.2773 - val_mse: 14.8620\n",
      "Epoch 8/10\n",
      "99669/99669 [==============================] - 22s 223us/sample - loss: 14.9817 - mae: 1.2546 - mse: 14.9817 - val_loss: 14.6949 - val_mae: 1.1721 - val_mse: 14.6949\n",
      "Epoch 9/10\n",
      "99669/99669 [==============================] - 16s 160us/sample - loss: 14.8444 - mae: 1.2455 - mse: 14.8443 - val_loss: 14.9332 - val_mae: 1.0906 - val_mse: 14.9332\n",
      "Epoch 10/10\n",
      "99669/99669 [==============================] - 20s 201us/sample - loss: 14.7882 - mae: 1.2242 - mse: 14.7882 - val_loss: 14.6204 - val_mae: 1.1385 - val_mse: 14.6204\n"
     ]
    }
   ],
   "source": [
    "epochs = 10\n",
    "\n",
    "history = model.fit(X_train_scaled, y_train.values, epochs=epochs, validation_split=0.2)"
   ]
  },
  {
   "cell_type": "code",
   "execution_count": 125,
   "metadata": {},
   "outputs": [
    {
     "data": {
      "text/html": [
       "<div>\n",
       "<style scoped>\n",
       "    .dataframe tbody tr th:only-of-type {\n",
       "        vertical-align: middle;\n",
       "    }\n",
       "\n",
       "    .dataframe tbody tr th {\n",
       "        vertical-align: top;\n",
       "    }\n",
       "\n",
       "    .dataframe thead th {\n",
       "        text-align: right;\n",
       "    }\n",
       "</style>\n",
       "<table border=\"1\" class=\"dataframe\">\n",
       "  <thead>\n",
       "    <tr style=\"text-align: right;\">\n",
       "      <th></th>\n",
       "      <th>loss</th>\n",
       "      <th>mae</th>\n",
       "      <th>mse</th>\n",
       "      <th>val_loss</th>\n",
       "      <th>val_mae</th>\n",
       "      <th>val_mse</th>\n",
       "    </tr>\n",
       "  </thead>\n",
       "  <tbody>\n",
       "    <tr>\n",
       "      <th>0</th>\n",
       "      <td>36.871588</td>\n",
       "      <td>3.397384</td>\n",
       "      <td>36.871609</td>\n",
       "      <td>21.477743</td>\n",
       "      <td>1.907565</td>\n",
       "      <td>21.477760</td>\n",
       "    </tr>\n",
       "    <tr>\n",
       "      <th>1</th>\n",
       "      <td>19.079416</td>\n",
       "      <td>1.686211</td>\n",
       "      <td>19.079422</td>\n",
       "      <td>17.495078</td>\n",
       "      <td>1.426075</td>\n",
       "      <td>17.495087</td>\n",
       "    </tr>\n",
       "    <tr>\n",
       "      <th>2</th>\n",
       "      <td>16.925176</td>\n",
       "      <td>1.465324</td>\n",
       "      <td>16.925190</td>\n",
       "      <td>16.215274</td>\n",
       "      <td>1.306556</td>\n",
       "      <td>16.215292</td>\n",
       "    </tr>\n",
       "    <tr>\n",
       "      <th>3</th>\n",
       "      <td>16.058745</td>\n",
       "      <td>1.383543</td>\n",
       "      <td>16.058735</td>\n",
       "      <td>16.152791</td>\n",
       "      <td>1.491229</td>\n",
       "      <td>16.152784</td>\n",
       "    </tr>\n",
       "    <tr>\n",
       "      <th>4</th>\n",
       "      <td>15.624557</td>\n",
       "      <td>1.327863</td>\n",
       "      <td>15.624562</td>\n",
       "      <td>15.217949</td>\n",
       "      <td>1.148723</td>\n",
       "      <td>15.217950</td>\n",
       "    </tr>\n",
       "    <tr>\n",
       "      <th>5</th>\n",
       "      <td>15.302943</td>\n",
       "      <td>1.299522</td>\n",
       "      <td>15.302953</td>\n",
       "      <td>15.496603</td>\n",
       "      <td>1.232852</td>\n",
       "      <td>15.496597</td>\n",
       "    </tr>\n",
       "    <tr>\n",
       "      <th>6</th>\n",
       "      <td>15.081536</td>\n",
       "      <td>1.271261</td>\n",
       "      <td>15.081526</td>\n",
       "      <td>14.862001</td>\n",
       "      <td>1.277321</td>\n",
       "      <td>14.861996</td>\n",
       "    </tr>\n",
       "    <tr>\n",
       "      <th>7</th>\n",
       "      <td>14.981740</td>\n",
       "      <td>1.254588</td>\n",
       "      <td>14.981741</td>\n",
       "      <td>14.694880</td>\n",
       "      <td>1.172105</td>\n",
       "      <td>14.694878</td>\n",
       "    </tr>\n",
       "    <tr>\n",
       "      <th>8</th>\n",
       "      <td>14.844353</td>\n",
       "      <td>1.245543</td>\n",
       "      <td>14.844346</td>\n",
       "      <td>14.933155</td>\n",
       "      <td>1.090590</td>\n",
       "      <td>14.933160</td>\n",
       "    </tr>\n",
       "    <tr>\n",
       "      <th>9</th>\n",
       "      <td>14.788179</td>\n",
       "      <td>1.224185</td>\n",
       "      <td>14.788201</td>\n",
       "      <td>14.620411</td>\n",
       "      <td>1.138522</td>\n",
       "      <td>14.620406</td>\n",
       "    </tr>\n",
       "  </tbody>\n",
       "</table>\n",
       "</div>"
      ],
      "text/plain": [
       "        loss       mae        mse   val_loss   val_mae    val_mse\n",
       "0  36.871588  3.397384  36.871609  21.477743  1.907565  21.477760\n",
       "1  19.079416  1.686211  19.079422  17.495078  1.426075  17.495087\n",
       "2  16.925176  1.465324  16.925190  16.215274  1.306556  16.215292\n",
       "3  16.058745  1.383543  16.058735  16.152791  1.491229  16.152784\n",
       "4  15.624557  1.327863  15.624562  15.217949  1.148723  15.217950\n",
       "5  15.302943  1.299522  15.302953  15.496603  1.232852  15.496597\n",
       "6  15.081536  1.271261  15.081526  14.862001  1.277321  14.861996\n",
       "7  14.981740  1.254588  14.981741  14.694880  1.172105  14.694878\n",
       "8  14.844353  1.245543  14.844346  14.933155  1.090590  14.933160\n",
       "9  14.788179  1.224185  14.788201  14.620411  1.138522  14.620406"
      ]
     },
     "execution_count": 125,
     "metadata": {},
     "output_type": "execute_result"
    }
   ],
   "source": [
    "history_df = pd.DataFrame(history.history)\n",
    "history_df"
   ]
  },
  {
   "cell_type": "code",
   "execution_count": 126,
   "metadata": {},
   "outputs": [],
   "source": [
    "root_metrics_df = history_df[[\"mse\", \"val_mse\"]].apply(np.sqrt)\n",
    "root_metrics_df.rename({\"mse\":\"rmse\", \"val_mse\":\"val_rmse\"}, axis=1, inplace=True)"
   ]
  },
  {
   "cell_type": "code",
   "execution_count": 127,
   "metadata": {},
   "outputs": [
    {
     "data": {
      "text/plain": [
       "<function matplotlib.pyplot.show(*args, **kw)>"
      ]
     },
     "execution_count": 127,
     "metadata": {},
     "output_type": "execute_result"
    },
    {
     "data": {
      "image/png": "[encoded data removed]",
      "text/plain": [
       "<Figure size 2400x800 with 1 Axes>"
      ]
     },
     "metadata": {
      "needs_background": "light"
     },
     "output_type": "display_data"
    }
   ],
   "source": [
    "fig, ax = plt.subplots(1, 1, figsize=(12, 4), dpi=200)\n",
    "ax.plot(root_metrics_df[\"rmse\"])\n",
    "\n",
    "ax.set_xlabel(\"Epochs\")\n",
    "ax.set_ylabel(\"RMSE\")\n",
    "\n",
    "ax.set_xlim([0, epochs-1])\n",
    "plt.show"
   ]
  },
  {
   "cell_type": "code",
   "execution_count": 128,
   "metadata": {},
   "outputs": [],
   "source": [
    "X_test_scaled = st_scaler.transform(X_test)\n",
    "y_pred = model.predict(X_test_scaled)"
   ]
  },
  {
   "cell_type": "code",
   "execution_count": 129,
   "metadata": {},
   "outputs": [
    {
     "name": "stdout",
     "output_type": "stream",
     "text": [
      "RMSE: 3.7731507552797527\n",
      "MAE: 1.1252009770683564\n"
     ]
    }
   ],
   "source": [
    "print(\"RMSE:\",np.sqrt(metrics.mean_squared_error(y_test, y_pred)))\n",
    "print(\"MAE:\", metrics.mean_absolute_error(y_test, y_pred))"
   ]
  },
  {
   "cell_type": "markdown",
   "metadata": {},
   "source": [
    "# Pipeline"
   ]
  },
  {
   "cell_type": "code",
   "execution_count": 138,
   "metadata": {},
   "outputs": [],
   "source": [
    "from sklearn.pipeline import Pipeline\n",
    "from sklearn.preprocessing import RobustScaler\n",
    "from tensorflow.keras.wrappers.scikit_learn import KerasRegressor"
   ]
  },
  {
   "cell_type": "code",
   "execution_count": 139,
   "metadata": {},
   "outputs": [],
   "source": [
    "def NNRegressor():\n",
    "    model = keras.Sequential(\n",
    "    [layers.Dense(36, activation=\"relu\", input_shape=[X_train.shape[1]]),\n",
    "     #layers.Dropout(0.2),\n",
    "     layers.Dense(36, activation=\"relu\"),\n",
    "     #layers.Dropout(0.2),\n",
    "     layers.Dense(1)])\n",
    "    \n",
    "    optimizer = keras.optimizers.RMSprop(0.001)\n",
    "    \n",
    "    model.compile(loss=\"mse\",\n",
    "                 optimizer=optimizer,\n",
    "                 metrics=[\"mae\"])\n",
    "    return model"
   ]
  },
  {
   "cell_type": "code",
   "execution_count": 140,
   "metadata": {},
   "outputs": [],
   "source": [
    "epochs = 30\n",
    "#batch_size = 250"
   ]
  },
  {
   "cell_type": "code",
   "execution_count": 141,
   "metadata": {},
   "outputs": [],
   "source": [
    "scaler = StandardScaler()\n",
    "nn = KerasRegressor(NNRegressor, \n",
    "                    epochs = epochs, \n",
    "                    #batch_size=batch_size, \n",
    "                    validation_split=0.2)"
   ]
  },
  {
   "cell_type": "code",
   "execution_count": 142,
   "metadata": {},
   "outputs": [],
   "source": [
    "pipe = Pipeline([\n",
    "    (\"Robust Scaler\", scaler), # fit -> transform\n",
    "    (\"Neural Network\", nn) # fit\n",
    "])"
   ]
  },
  {
   "cell_type": "code",
   "execution_count": 143,
   "metadata": {},
   "outputs": [
    {
     "name": "stdout",
     "output_type": "stream",
     "text": [
      "Train on 99669 samples, validate on 24918 samples\n",
      "Epoch 1/30\n",
      "99669/99669 [==============================] - 23s 235us/sample - loss: 41.0653 - mae: 3.8261 - val_loss: 30.9088 - val_mae: 3.0552\n",
      "Epoch 2/30\n",
      "99669/99669 [==============================] - 20s 200us/sample - loss: 26.7964 - mae: 2.5158 - val_loss: 22.0687 - val_mae: 2.0303\n",
      "Epoch 3/30\n",
      "99669/99669 [==============================] - 20s 197us/sample - loss: 19.9596 - mae: 1.7555 - val_loss: 19.0966 - val_mae: 2.0054\n",
      "Epoch 4/30\n",
      "99669/99669 [==============================] - 20s 198us/sample - loss: 17.6040 - mae: 1.4639 - val_loss: 16.9751 - val_mae: 1.4256\n",
      "Epoch 5/30\n",
      "99669/99669 [==============================] - 20s 199us/sample - loss: 16.6526 - mae: 1.3554 - val_loss: 16.0627 - val_mae: 1.2100\n",
      "Epoch 6/30\n",
      "99669/99669 [==============================] - 20s 199us/sample - loss: 16.1601 - mae: 1.2990 - val_loss: 16.6542 - val_mae: 1.4734\n",
      "Epoch 7/30\n",
      "99669/99669 [==============================] - 20s 199us/sample - loss: 15.9233 - mae: 1.2787 - val_loss: 15.9345 - val_mae: 1.3264\n",
      "Epoch 8/30\n",
      "99669/99669 [==============================] - 20s 198us/sample - loss: 15.7583 - mae: 1.2702 - val_loss: 15.8860 - val_mae: 1.0487\n",
      "Epoch 9/30\n",
      "99669/99669 [==============================] - 20s 199us/sample - loss: 15.6377 - mae: 1.2601 - val_loss: 15.6695 - val_mae: 1.2521\n",
      "Epoch 10/30\n",
      "99669/99669 [==============================] - 20s 200us/sample - loss: 15.5835 - mae: 1.2489 - val_loss: 15.4263 - val_mae: 1.1597\n",
      "Epoch 11/30\n",
      "99669/99669 [==============================] - 20s 202us/sample - loss: 15.5540 - mae: 1.2588 - val_loss: 17.9419 - val_mae: 1.7931\n",
      "Epoch 12/30\n",
      "99669/99669 [==============================] - 20s 201us/sample - loss: 15.6020 - mae: 1.2523 - val_loss: 15.5929 - val_mae: 1.1017\n",
      "Epoch 13/30\n",
      "99669/99669 [==============================] - 20s 201us/sample - loss: 15.5206 - mae: 1.2543 - val_loss: 15.7934 - val_mae: 1.3338\n",
      "Epoch 14/30\n",
      "99669/99669 [==============================] - 20s 202us/sample - loss: 15.5108 - mae: 1.2551 - val_loss: 15.5106 - val_mae: 1.1686\n",
      "Epoch 15/30\n",
      "99669/99669 [==============================] - 20s 204us/sample - loss: 15.4534 - mae: 1.2484 - val_loss: 15.8260 - val_mae: 1.0416\n",
      "Epoch 16/30\n",
      "99669/99669 [==============================] - 20s 202us/sample - loss: 15.4775 - mae: 1.2487 - val_loss: 15.2439 - val_mae: 1.0777\n",
      "Epoch 17/30\n",
      "99669/99669 [==============================] - 20s 200us/sample - loss: 15.3895 - mae: 1.2554 - val_loss: 15.3442 - val_mae: 0.9773\n",
      "Epoch 18/30\n",
      "99669/99669 [==============================] - 20s 203us/sample - loss: 15.3782 - mae: 1.2465 - val_loss: 15.4143 - val_mae: 1.0387\n",
      "Epoch 19/30\n",
      "99669/99669 [==============================] - 20s 202us/sample - loss: 15.3604 - mae: 1.2446 - val_loss: 15.4593 - val_mae: 1.2806\n",
      "Epoch 20/30\n",
      "99669/99669 [==============================] - 20s 202us/sample - loss: 15.3206 - mae: 1.2556 - val_loss: 15.5792 - val_mae: 1.3828\n",
      "Epoch 21/30\n",
      "99669/99669 [==============================] - 19s 194us/sample - loss: 15.4091 - mae: 1.2585 - val_loss: 15.6839 - val_mae: 1.3890\n",
      "Epoch 22/30\n",
      "99669/99669 [==============================] - 20s 203us/sample - loss: 15.4007 - mae: 1.2485 - val_loss: 15.6459 - val_mae: 1.1437\n",
      "Epoch 23/30\n",
      "99669/99669 [==============================] - 20s 201us/sample - loss: 15.3675 - mae: 1.2385 - val_loss: 16.2057 - val_mae: 1.7957\n",
      "Epoch 24/30\n",
      "99669/99669 [==============================] - 21s 206us/sample - loss: 15.3113 - mae: 1.2332 - val_loss: 16.4568 - val_mae: 1.6566\n",
      "Epoch 25/30\n",
      "99669/99669 [==============================] - 20s 206us/sample - loss: 15.2791 - mae: 1.2327 - val_loss: 15.3599 - val_mae: 1.2282\n",
      "Epoch 26/30\n",
      "99669/99669 [==============================] - 17s 172us/sample - loss: 15.2225 - mae: 1.2369 - val_loss: 15.4615 - val_mae: 1.1694\n",
      "Epoch 27/30\n",
      "99669/99669 [==============================] - 20s 204us/sample - loss: 15.2372 - mae: 1.2342 - val_loss: 15.7624 - val_mae: 1.3985\n",
      "Epoch 28/30\n",
      "99669/99669 [==============================] - 21s 206us/sample - loss: 15.2689 - mae: 1.2404 - val_loss: 15.4633 - val_mae: 1.1196\n",
      "Epoch 29/30\n",
      "99669/99669 [==============================] - 20s 201us/sample - loss: 15.2103 - mae: 1.2323 - val_loss: 15.4075 - val_mae: 0.9920\n",
      "Epoch 30/30\n",
      "99669/99669 [==============================] - 20s 201us/sample - loss: 15.1898 - mae: 1.2212 - val_loss: 15.0934 - val_mae: 0.9868\n"
     ]
    },
    {
     "data": {
      "text/plain": [
       "Pipeline(memory=None,\n",
       "         steps=[('Robust Scaler',\n",
       "                 StandardScaler(copy=True, with_mean=True, with_std=True)),\n",
       "                ('Neural Network',\n",
       "                 <tensorflow.python.keras.wrappers.scikit_learn.KerasRegressor object at 0x000000ABDCAABE48>)],\n",
       "         verbose=False)"
      ]
     },
     "execution_count": 143,
     "metadata": {},
     "output_type": "execute_result"
    }
   ],
   "source": [
    "pipe.fit(X_train, y_train.values)"
   ]
  },
  {
   "cell_type": "code",
   "execution_count": 144,
   "metadata": {},
   "outputs": [],
   "source": [
    "y_pred = pipe.predict(X_test)"
   ]
  },
  {
   "cell_type": "code",
   "execution_count": 145,
   "metadata": {},
   "outputs": [
    {
     "name": "stdout",
     "output_type": "stream",
     "text": [
      "RMSE: 3.7821956057277055\n",
      "MAE: 0.9570050068591036\n"
     ]
    }
   ],
   "source": [
    "print(\"RMSE:\",np.sqrt(metrics.mean_squared_error(y_test, y_pred)))\n",
    "print(\"MAE:\", metrics.mean_absolute_error(y_test, y_pred))"
   ]
  },
  {
   "cell_type": "code",
   "execution_count": null,
   "metadata": {},
   "outputs": [],
   "source": []
  },
  {
   "cell_type": "code",
   "execution_count": null,
   "metadata": {},
   "outputs": [],
   "source": []
  }
 ],
 "metadata": {
  "kernelspec": {
   "display_name": "PDS20",
   "language": "python",
   "name": "pds20"
  },
  "language_info": {
   "codemirror_mode": {
    "name": "ipython",
    "version": 3
   },
   "file_extension": ".py",
   "mimetype": "text/x-python",
   "name": "python",
   "nbconvert_exporter": "python",
   "pygments_lexer": "ipython3",
   "version": "3.7.7"
  }
 },
 "nbformat": 4,
 "nbformat_minor": 4
}
