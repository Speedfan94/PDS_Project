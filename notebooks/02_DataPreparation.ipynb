{
 "cells": [
  {
   "cell_type": "code",
   "execution_count": 26,
   "metadata": {},
   "outputs": [
    {
     "name": "stdout",
     "output_type": "stream",
     "text": [
      "Obtaining file:///C:/Users/lenovo/Documents/GitHub/Project\n",
      "Requirement already satisfied: pandas in c:\\users\\lenovo\\miniconda3\\envs\\pds20\\lib\\site-packages (from PDS-Project==0.0.1.dev1) (1.0.3)\n",
      "Requirement already satisfied: scikit-learn in c:\\users\\lenovo\\miniconda3\\envs\\pds20\\lib\\site-packages (from PDS-Project==0.0.1.dev1) (0.22.1)\n",
      "Requirement already satisfied: click in c:\\users\\lenovo\\miniconda3\\envs\\pds20\\lib\\site-packages (from PDS-Project==0.0.1.dev1) (7.1.1)\n",
      "Requirement already satisfied: python-dateutil>=2.6.1 in c:\\users\\lenovo\\miniconda3\\envs\\pds20\\lib\\site-packages (from pandas->PDS-Project==0.0.1.dev1) (2.8.1)\n",
      "Requirement already satisfied: numpy>=1.13.3 in c:\\users\\lenovo\\miniconda3\\envs\\pds20\\lib\\site-packages (from pandas->PDS-Project==0.0.1.dev1) (1.18.1)\n",
      "Requirement already satisfied: pytz>=2017.2 in c:\\users\\lenovo\\miniconda3\\envs\\pds20\\lib\\site-packages (from pandas->PDS-Project==0.0.1.dev1) (2019.3)\n",
      "Requirement already satisfied: joblib>=0.11 in c:\\users\\lenovo\\miniconda3\\envs\\pds20\\lib\\site-packages (from scikit-learn->PDS-Project==0.0.1.dev1) (0.14.1)\n",
      "Requirement already satisfied: scipy>=0.17.0 in c:\\users\\lenovo\\miniconda3\\envs\\pds20\\lib\\site-packages (from scikit-learn->PDS-Project==0.0.1.dev1) (1.4.1)\n",
      "Requirement already satisfied: six>=1.5 in c:\\users\\lenovo\\miniconda3\\envs\\pds20\\lib\\site-packages (from python-dateutil>=2.6.1->pandas->PDS-Project==0.0.1.dev1) (1.14.0)\n",
      "Installing collected packages: PDS-Project\n",
      "  Attempting uninstall: PDS-Project\n",
      "    Found existing installation: PDS-Project 0.0.1.dev1\n",
      "    Uninstalling PDS-Project-0.0.1.dev1:\n",
      "      Successfully uninstalled PDS-Project-0.0.1.dev1\n",
      "  Running setup.py develop for PDS-Project\n",
      "Successfully installed PDS-Project\n"
     ]
    }
   ],
   "source": [
    "!pip install -e .."
   ]
  },
  {
   "cell_type": "code",
   "execution_count": null,
   "metadata": {
    "scrolled": false
   },
   "outputs": [
    {
     "name": "stdout",
     "output_type": "stream",
     "text": [
      "Read data...\n",
      "Prepare columns...\n",
      "Drop duplicates...\n",
      "Filter on start/end...\n",
      "Eliminate Noise\n"
     ]
    },
    {
     "name": "stderr",
     "output_type": "stream",
     "text": [
      "C:\\Users\\lenovo\\miniconda3\\envs\\PDS20\\lib\\site-packages\\ipykernel_launcher.py:39: SettingWithCopyWarning: \n",
      "A value is trying to be set on a copy of a slice from a DataFrame.\n",
      "Try using .loc[row_indexer,col_indexer] = value instead\n",
      "\n",
      "See the caveats in the documentation: https://pandas.pydata.org/pandas-docs/stable/user_guide/indexing.html#returning-a-view-versus-a-copy\n"
     ]
    },
    {
     "name": "stdout",
     "output_type": "stream",
     "text": [
      "Create Master DataFrame\n"
     ]
    },
    {
     "name": "stderr",
     "output_type": "stream",
     "text": [
      "C:\\Users\\lenovo\\miniconda3\\envs\\PDS20\\lib\\site-packages\\ipykernel_launcher.py:46: SettingWithCopyWarning: \n",
      "A value is trying to be set on a copy of a slice from a DataFrame.\n",
      "Try using .loc[row_indexer,col_indexer] = value instead\n",
      "\n",
      "See the caveats in the documentation: https://pandas.pydata.org/pandas-docs/stable/user_guide/indexing.html#returning-a-view-versus-a-copy\n",
      "C:\\Users\\lenovo\\miniconda3\\envs\\PDS20\\lib\\site-packages\\ipykernel_launcher.py:47: SettingWithCopyWarning: \n",
      "A value is trying to be set on a copy of a slice from a DataFrame.\n",
      "Try using .loc[row_indexer,col_indexer] = value instead\n",
      "\n",
      "See the caveats in the documentation: https://pandas.pydata.org/pandas-docs/stable/user_guide/indexing.html#returning-a-view-versus-a-copy\n"
     ]
    },
    {
     "name": "stdout",
     "output_type": "stream",
     "text": [
      "Save csv\n"
     ]
    }
   ],
   "source": [
    "#Imports\n",
    "import os\n",
    "import pandas as pd\n",
    "\n",
    "#Get Data\n",
    "print(\"Read data...\")\n",
    "path = os.path.join(os.path.join(os.getcwd(), \"../nextbike/data\"), \"input/nuremberg.csv\")\n",
    "df = pd.read_csv(path)\n",
    "\n",
    "\n",
    "#Prepare Columns\n",
    "print(\"Prepare columns...\")\n",
    "df_clean = df.drop([\"Unnamed: 0\", \n",
    "                    \"p_spot\", \n",
    "                    \"p_place_type\", \n",
    "                    \"p_bike\", \n",
    "                    \"b_bike_type\", \n",
    "                    \"p_bikes\", \n",
    "                    \"p_uid\", \n",
    "                    \"p_number\"], axis=1)\n",
    "df_clean.rename({\"p_lat\" : \"Latitude\", \n",
    "                 \"p_lng\":\"Longitude\", \n",
    "                 \"p_name\":\"Place\",\n",
    "                 \"b_number\":\"Bike Number\"}, axis=1, inplace=True)\n",
    "\n",
    "\n",
    "#Drop Duplicates\n",
    "print(\"Drop duplicates...\")\n",
    "df_clean_unique=df_clean.drop_duplicates(subset=df_clean.columns.difference([\"Longitude\", \"Latitude\"]))\n",
    "\n",
    "\n",
    "#Drop trip first/last\n",
    "print(\"Filter on start/end...\")\n",
    "df_clean_unique_trip = df_clean_unique[(df_clean_unique[\"trip\"]==\"start\")|(df_clean_unique[\"trip\"]==\"end\")]\n",
    "\n",
    "#Eliminate Noise\n",
    "print(\"Eliminate Noise\")\n",
    "sr_noise = (df_clean_unique_trip['trip'] != df_clean_unique_trip['trip'].shift())\n",
    "df_clean_unique_trip['Noisy Entry']=sr_noise\n",
    "df_final = df_clean_unique_trip[df_clean_unique_trip[\"Noisy Entry\"]==True]\n",
    "\n",
    "#split, reindex, merge\n",
    "print(\"Create Master DataFrame\")\n",
    "df_s = df_final[df_final[\"trip\"]==\"start\"]\n",
    "df_e = df_final[df_final[\"trip\"]==\"end\"]\n",
    "df_e[\"index\"]=range(0, len(df_e))\n",
    "df_s[\"index\"]=range(0, len(df_s))\n",
    "df_merged=df_s.merge(df_e, left_on=df_s[\"index\"], right_on=df_e[\"index\"], suffixes=('_start', '_end'))\n",
    "df_merged.drop([\"key_0\", \n",
    "                \"trip_start\", \n",
    "                \"Noisy Entry_start\", \n",
    "                \"index_start\", \n",
    "                \"Bike Number_end\", \n",
    "                \"trip_end\", \n",
    "                \"Noisy Entry_end\", \n",
    "                \"index_end\"], axis=1, inplace = True, errors=\"ignore\")\n",
    "df_merged.rename({\"datetime_start\":\"Start Time\", \"Bike Number_start\":\"Bike Number\", \"datetime_end\":\"End Time\"}, axis=1)\n",
    "\n",
    "#Save final df\n",
    "print(\"Save csv\")\n",
    "df_merged.to_csv(\"../nextbike/data/output/final.csv\")\n",
    "\n",
    "print(\"DONE\")\n",
    "print(df_merged.head())"
   ]
  },
  {
   "cell_type": "code",
   "execution_count": null,
   "metadata": {},
   "outputs": [],
   "source": []
  },
  {
   "cell_type": "code",
   "execution_count": null,
   "metadata": {},
   "outputs": [],
   "source": []
  },
  {
   "cell_type": "code",
   "execution_count": null,
   "metadata": {},
   "outputs": [],
   "source": []
  }
 ],
 "metadata": {
  "kernelspec": {
   "display_name": "PDS20",
   "language": "python",
   "name": "pds20"
  },
  "language_info": {
   "codemirror_mode": {
    "name": "ipython",
    "version": 3
   },
   "file_extension": ".py",
   "mimetype": "text/x-python",
   "name": "python",
   "nbconvert_exporter": "python",
   "pygments_lexer": "ipython3",
   "version": "3.7.7"
  }
 },
 "nbformat": 4,
 "nbformat_minor": 4
}
