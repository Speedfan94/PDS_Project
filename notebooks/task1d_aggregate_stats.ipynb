{
 "cells": [
  {
   "cell_type": "code",
   "execution_count": 1,
   "metadata": {},
   "outputs": [],
   "source": [
    "#Imports\n",
    "import os\n",
    "import pandas as pd"
   ]
  },
  {
   "cell_type": "code",
   "execution_count": 2,
   "metadata": {},
   "outputs": [
    {
     "name": "stdout",
     "output_type": "stream",
     "text": [
      "Read data...\n"
     ]
    },
    {
     "data": {
      "text/html": [
       "<div>\n",
       "<style scoped>\n",
       "    .dataframe tbody tr th:only-of-type {\n",
       "        vertical-align: middle;\n",
       "    }\n",
       "\n",
       "    .dataframe tbody tr th {\n",
       "        vertical-align: top;\n",
       "    }\n",
       "\n",
       "    .dataframe thead th {\n",
       "        text-align: right;\n",
       "    }\n",
       "</style>\n",
       "<table border=\"1\" class=\"dataframe\">\n",
       "  <thead>\n",
       "    <tr style=\"text-align: right;\">\n",
       "      <th></th>\n",
       "      <th>Unnamed: 0</th>\n",
       "      <th>Start Time</th>\n",
       "      <th>Bike Number</th>\n",
       "      <th>Latitude_start</th>\n",
       "      <th>Place_start</th>\n",
       "      <th>Start Place_id</th>\n",
       "      <th>Longitude_start</th>\n",
       "      <th>End Time</th>\n",
       "      <th>Latitude_end</th>\n",
       "      <th>Place_end</th>\n",
       "      <th>End Place_id</th>\n",
       "      <th>Longitude_end</th>\n",
       "      <th>inside</th>\n",
       "      <th>Weekend</th>\n",
       "      <th>Duration</th>\n",
       "    </tr>\n",
       "  </thead>\n",
       "  <tbody>\n",
       "    <tr>\n",
       "      <th>0</th>\n",
       "      <td>210276</td>\n",
       "      <td>2019-03-20 13:56:00</td>\n",
       "      <td>90000</td>\n",
       "      <td>49.435580</td>\n",
       "      <td>Hst. Dutzendteich</td>\n",
       "      <td>4635.0</td>\n",
       "      <td>11.116608</td>\n",
       "      <td>2019-03-20 14:15:00</td>\n",
       "      <td>49.435076</td>\n",
       "      <td>BIKE 90000</td>\n",
       "      <td>0.0</td>\n",
       "      <td>11.109361</td>\n",
       "      <td>True</td>\n",
       "      <td>False</td>\n",
       "      <td>19.0</td>\n",
       "    </tr>\n",
       "    <tr>\n",
       "      <th>1</th>\n",
       "      <td>210277</td>\n",
       "      <td>2019-04-12 08:25:00</td>\n",
       "      <td>90000</td>\n",
       "      <td>49.448249</td>\n",
       "      <td>BIKE 90000</td>\n",
       "      <td>0.0</td>\n",
       "      <td>11.067034</td>\n",
       "      <td>2019-04-12 08:31:00</td>\n",
       "      <td>49.448284</td>\n",
       "      <td>BIKE 90000</td>\n",
       "      <td>0.0</td>\n",
       "      <td>11.067134</td>\n",
       "      <td>True</td>\n",
       "      <td>False</td>\n",
       "      <td>6.0</td>\n",
       "    </tr>\n",
       "    <tr>\n",
       "      <th>2</th>\n",
       "      <td>210278</td>\n",
       "      <td>2019-04-12 08:34:00</td>\n",
       "      <td>90000</td>\n",
       "      <td>49.448284</td>\n",
       "      <td>BIKE 90000</td>\n",
       "      <td>0.0</td>\n",
       "      <td>11.067134</td>\n",
       "      <td>2019-04-12 08:36:00</td>\n",
       "      <td>49.448284</td>\n",
       "      <td>BIKE 90000</td>\n",
       "      <td>0.0</td>\n",
       "      <td>11.067134</td>\n",
       "      <td>True</td>\n",
       "      <td>False</td>\n",
       "      <td>2.0</td>\n",
       "    </tr>\n",
       "    <tr>\n",
       "      <th>3</th>\n",
       "      <td>210279</td>\n",
       "      <td>2019-01-22 07:30:00</td>\n",
       "      <td>90001</td>\n",
       "      <td>49.440970</td>\n",
       "      <td>Allersberger Str. / Paulstr.</td>\n",
       "      <td>4665.0</td>\n",
       "      <td>11.090060</td>\n",
       "      <td>2019-01-22 07:47:00</td>\n",
       "      <td>49.428760</td>\n",
       "      <td>easyCredit-Haus / Beuthener Str.</td>\n",
       "      <td>4678.0</td>\n",
       "      <td>11.130899</td>\n",
       "      <td>True</td>\n",
       "      <td>False</td>\n",
       "      <td>17.0</td>\n",
       "    </tr>\n",
       "    <tr>\n",
       "      <th>4</th>\n",
       "      <td>210280</td>\n",
       "      <td>2019-01-24 09:00:00</td>\n",
       "      <td>90001</td>\n",
       "      <td>49.428760</td>\n",
       "      <td>easyCredit-Haus / Beuthener Str.</td>\n",
       "      <td>4678.0</td>\n",
       "      <td>11.130899</td>\n",
       "      <td>2019-01-24 09:02:00</td>\n",
       "      <td>49.428760</td>\n",
       "      <td>easyCredit-Haus / Beuthener Str.</td>\n",
       "      <td>4678.0</td>\n",
       "      <td>11.130899</td>\n",
       "      <td>True</td>\n",
       "      <td>False</td>\n",
       "      <td>2.0</td>\n",
       "    </tr>\n",
       "    <tr>\n",
       "      <th>...</th>\n",
       "      <td>...</td>\n",
       "      <td>...</td>\n",
       "      <td>...</td>\n",
       "      <td>...</td>\n",
       "      <td>...</td>\n",
       "      <td>...</td>\n",
       "      <td>...</td>\n",
       "      <td>...</td>\n",
       "      <td>...</td>\n",
       "      <td>...</td>\n",
       "      <td>...</td>\n",
       "      <td>...</td>\n",
       "      <td>...</td>\n",
       "      <td>...</td>\n",
       "      <td>...</td>\n",
       "    </tr>\n",
       "    <tr>\n",
       "      <th>196173</th>\n",
       "      <td>407526</td>\n",
       "      <td>2019-04-12 08:10:00</td>\n",
       "      <td>90859</td>\n",
       "      <td>49.453707</td>\n",
       "      <td>BIKE 90859</td>\n",
       "      <td>0.0</td>\n",
       "      <td>11.078858</td>\n",
       "      <td>2019-04-12 08:12:00</td>\n",
       "      <td>49.453707</td>\n",
       "      <td>BIKE 90859</td>\n",
       "      <td>0.0</td>\n",
       "      <td>11.078858</td>\n",
       "      <td>True</td>\n",
       "      <td>False</td>\n",
       "      <td>2.0</td>\n",
       "    </tr>\n",
       "    <tr>\n",
       "      <th>196174</th>\n",
       "      <td>407527</td>\n",
       "      <td>2019-04-12 08:20:00</td>\n",
       "      <td>90859</td>\n",
       "      <td>49.453707</td>\n",
       "      <td>BIKE 90859</td>\n",
       "      <td>0.0</td>\n",
       "      <td>11.078858</td>\n",
       "      <td>2019-04-12 08:22:00</td>\n",
       "      <td>49.453707</td>\n",
       "      <td>BIKE 90859</td>\n",
       "      <td>0.0</td>\n",
       "      <td>11.078858</td>\n",
       "      <td>True</td>\n",
       "      <td>False</td>\n",
       "      <td>2.0</td>\n",
       "    </tr>\n",
       "    <tr>\n",
       "      <th>196175</th>\n",
       "      <td>407528</td>\n",
       "      <td>2019-04-12 08:29:00</td>\n",
       "      <td>90859</td>\n",
       "      <td>49.453707</td>\n",
       "      <td>BIKE 90859</td>\n",
       "      <td>0.0</td>\n",
       "      <td>11.078858</td>\n",
       "      <td>2019-04-12 08:31:00</td>\n",
       "      <td>49.453707</td>\n",
       "      <td>BIKE 90859</td>\n",
       "      <td>0.0</td>\n",
       "      <td>11.078858</td>\n",
       "      <td>True</td>\n",
       "      <td>False</td>\n",
       "      <td>2.0</td>\n",
       "    </tr>\n",
       "    <tr>\n",
       "      <th>196176</th>\n",
       "      <td>407529</td>\n",
       "      <td>2019-04-12 08:34:00</td>\n",
       "      <td>90859</td>\n",
       "      <td>49.453707</td>\n",
       "      <td>BIKE 90859</td>\n",
       "      <td>0.0</td>\n",
       "      <td>11.078858</td>\n",
       "      <td>2019-04-12 08:38:00</td>\n",
       "      <td>49.453707</td>\n",
       "      <td>BIKE 90859</td>\n",
       "      <td>0.0</td>\n",
       "      <td>11.078858</td>\n",
       "      <td>True</td>\n",
       "      <td>False</td>\n",
       "      <td>4.0</td>\n",
       "    </tr>\n",
       "    <tr>\n",
       "      <th>196177</th>\n",
       "      <td>407530</td>\n",
       "      <td>2019-04-14 14:16:00</td>\n",
       "      <td>90859</td>\n",
       "      <td>49.453707</td>\n",
       "      <td>BIKE 90859</td>\n",
       "      <td>0.0</td>\n",
       "      <td>11.078858</td>\n",
       "      <td>2019-04-14 19:21:00</td>\n",
       "      <td>49.453691</td>\n",
       "      <td>Spitalgasse 5</td>\n",
       "      <td>0.0</td>\n",
       "      <td>11.078879</td>\n",
       "      <td>True</td>\n",
       "      <td>True</td>\n",
       "      <td>305.0</td>\n",
       "    </tr>\n",
       "  </tbody>\n",
       "</table>\n",
       "<p>196178 rows × 15 columns</p>\n",
       "</div>"
      ],
      "text/plain": [
       "        Unnamed: 0           Start Time  Bike Number  Latitude_start  \\\n",
       "0           210276  2019-03-20 13:56:00        90000       49.435580   \n",
       "1           210277  2019-04-12 08:25:00        90000       49.448249   \n",
       "2           210278  2019-04-12 08:34:00        90000       49.448284   \n",
       "3           210279  2019-01-22 07:30:00        90001       49.440970   \n",
       "4           210280  2019-01-24 09:00:00        90001       49.428760   \n",
       "...            ...                  ...          ...             ...   \n",
       "196173      407526  2019-04-12 08:10:00        90859       49.453707   \n",
       "196174      407527  2019-04-12 08:20:00        90859       49.453707   \n",
       "196175      407528  2019-04-12 08:29:00        90859       49.453707   \n",
       "196176      407529  2019-04-12 08:34:00        90859       49.453707   \n",
       "196177      407530  2019-04-14 14:16:00        90859       49.453707   \n",
       "\n",
       "                             Place_start  Start Place_id  Longitude_start  \\\n",
       "0                      Hst. Dutzendteich          4635.0        11.116608   \n",
       "1                             BIKE 90000             0.0        11.067034   \n",
       "2                             BIKE 90000             0.0        11.067134   \n",
       "3           Allersberger Str. / Paulstr.          4665.0        11.090060   \n",
       "4       easyCredit-Haus / Beuthener Str.          4678.0        11.130899   \n",
       "...                                  ...             ...              ...   \n",
       "196173                        BIKE 90859             0.0        11.078858   \n",
       "196174                        BIKE 90859             0.0        11.078858   \n",
       "196175                        BIKE 90859             0.0        11.078858   \n",
       "196176                        BIKE 90859             0.0        11.078858   \n",
       "196177                        BIKE 90859             0.0        11.078858   \n",
       "\n",
       "                   End Time  Latitude_end                         Place_end  \\\n",
       "0       2019-03-20 14:15:00     49.435076                        BIKE 90000   \n",
       "1       2019-04-12 08:31:00     49.448284                        BIKE 90000   \n",
       "2       2019-04-12 08:36:00     49.448284                        BIKE 90000   \n",
       "3       2019-01-22 07:47:00     49.428760  easyCredit-Haus / Beuthener Str.   \n",
       "4       2019-01-24 09:02:00     49.428760  easyCredit-Haus / Beuthener Str.   \n",
       "...                     ...           ...                               ...   \n",
       "196173  2019-04-12 08:12:00     49.453707                        BIKE 90859   \n",
       "196174  2019-04-12 08:22:00     49.453707                        BIKE 90859   \n",
       "196175  2019-04-12 08:31:00     49.453707                        BIKE 90859   \n",
       "196176  2019-04-12 08:38:00     49.453707                        BIKE 90859   \n",
       "196177  2019-04-14 19:21:00     49.453691                     Spitalgasse 5   \n",
       "\n",
       "        End Place_id  Longitude_end  inside  Weekend  Duration  \n",
       "0                0.0      11.109361    True    False      19.0  \n",
       "1                0.0      11.067134    True    False       6.0  \n",
       "2                0.0      11.067134    True    False       2.0  \n",
       "3             4678.0      11.130899    True    False      17.0  \n",
       "4             4678.0      11.130899    True    False       2.0  \n",
       "...              ...            ...     ...      ...       ...  \n",
       "196173           0.0      11.078858    True    False       2.0  \n",
       "196174           0.0      11.078858    True    False       2.0  \n",
       "196175           0.0      11.078858    True    False       2.0  \n",
       "196176           0.0      11.078858    True    False       4.0  \n",
       "196177           0.0      11.078879    True     True     305.0  \n",
       "\n",
       "[196178 rows x 15 columns]"
      ]
     },
     "execution_count": 2,
     "metadata": {},
     "output_type": "execute_result"
    }
   ],
   "source": [
    "#Get Data\n",
    "print(\"Read data...\")\n",
    "path = os.path.join(os.path.join(os.getcwd(), \"../nextbike/data\"), \"output/Trips.csv\")\n",
    "df = pd.read_csv(path)\n",
    "df"
   ]
  },
  {
   "cell_type": "code",
   "execution_count": 3,
   "metadata": {},
   "outputs": [
    {
     "data": {
      "text/plain": [
       "Index(['Unnamed: 0', 'Start Time', 'Bike Number', 'Latitude_start',\n",
       "       'Place_start', 'Start Place_id', 'Longitude_start', 'End Time',\n",
       "       'Latitude_end', 'Place_end', 'End Place_id', 'Longitude_end', 'inside',\n",
       "       'Weekend', 'Duration'],\n",
       "      dtype='object')"
      ]
     },
     "execution_count": 3,
     "metadata": {},
     "output_type": "execute_result"
    }
   ],
   "source": [
    "df.columns"
   ]
  },
  {
   "cell_type": "code",
   "execution_count": 4,
   "metadata": {},
   "outputs": [
    {
     "data": {
      "text/html": [
       "<div>\n",
       "<style scoped>\n",
       "    .dataframe tbody tr th:only-of-type {\n",
       "        vertical-align: middle;\n",
       "    }\n",
       "\n",
       "    .dataframe tbody tr th {\n",
       "        vertical-align: top;\n",
       "    }\n",
       "\n",
       "    .dataframe thead th {\n",
       "        text-align: right;\n",
       "    }\n",
       "</style>\n",
       "<table border=\"1\" class=\"dataframe\">\n",
       "  <thead>\n",
       "    <tr style=\"text-align: right;\">\n",
       "      <th></th>\n",
       "      <th>Start Time</th>\n",
       "      <th>Bike Number</th>\n",
       "      <th>Latitude_start</th>\n",
       "      <th>Place_start</th>\n",
       "      <th>Start Place_id</th>\n",
       "      <th>Longitude_start</th>\n",
       "      <th>End Time</th>\n",
       "      <th>Latitude_end</th>\n",
       "      <th>Place_end</th>\n",
       "      <th>End Place_id</th>\n",
       "      <th>Longitude_end</th>\n",
       "      <th>inside</th>\n",
       "      <th>Weekend</th>\n",
       "      <th>Duration</th>\n",
       "    </tr>\n",
       "  </thead>\n",
       "  <tbody>\n",
       "    <tr>\n",
       "      <th>0</th>\n",
       "      <td>2019-03-20 13:56:00</td>\n",
       "      <td>90000</td>\n",
       "      <td>49.435580</td>\n",
       "      <td>Hst. Dutzendteich</td>\n",
       "      <td>4635.0</td>\n",
       "      <td>11.116608</td>\n",
       "      <td>2019-03-20 14:15:00</td>\n",
       "      <td>49.435076</td>\n",
       "      <td>BIKE 90000</td>\n",
       "      <td>0.0</td>\n",
       "      <td>11.109361</td>\n",
       "      <td>True</td>\n",
       "      <td>False</td>\n",
       "      <td>19.0</td>\n",
       "    </tr>\n",
       "    <tr>\n",
       "      <th>1</th>\n",
       "      <td>2019-04-12 08:25:00</td>\n",
       "      <td>90000</td>\n",
       "      <td>49.448249</td>\n",
       "      <td>BIKE 90000</td>\n",
       "      <td>0.0</td>\n",
       "      <td>11.067034</td>\n",
       "      <td>2019-04-12 08:31:00</td>\n",
       "      <td>49.448284</td>\n",
       "      <td>BIKE 90000</td>\n",
       "      <td>0.0</td>\n",
       "      <td>11.067134</td>\n",
       "      <td>True</td>\n",
       "      <td>False</td>\n",
       "      <td>6.0</td>\n",
       "    </tr>\n",
       "    <tr>\n",
       "      <th>2</th>\n",
       "      <td>2019-04-12 08:34:00</td>\n",
       "      <td>90000</td>\n",
       "      <td>49.448284</td>\n",
       "      <td>BIKE 90000</td>\n",
       "      <td>0.0</td>\n",
       "      <td>11.067134</td>\n",
       "      <td>2019-04-12 08:36:00</td>\n",
       "      <td>49.448284</td>\n",
       "      <td>BIKE 90000</td>\n",
       "      <td>0.0</td>\n",
       "      <td>11.067134</td>\n",
       "      <td>True</td>\n",
       "      <td>False</td>\n",
       "      <td>2.0</td>\n",
       "    </tr>\n",
       "    <tr>\n",
       "      <th>3</th>\n",
       "      <td>2019-01-22 07:30:00</td>\n",
       "      <td>90001</td>\n",
       "      <td>49.440970</td>\n",
       "      <td>Allersberger Str. / Paulstr.</td>\n",
       "      <td>4665.0</td>\n",
       "      <td>11.090060</td>\n",
       "      <td>2019-01-22 07:47:00</td>\n",
       "      <td>49.428760</td>\n",
       "      <td>easyCredit-Haus / Beuthener Str.</td>\n",
       "      <td>4678.0</td>\n",
       "      <td>11.130899</td>\n",
       "      <td>True</td>\n",
       "      <td>False</td>\n",
       "      <td>17.0</td>\n",
       "    </tr>\n",
       "    <tr>\n",
       "      <th>4</th>\n",
       "      <td>2019-01-24 09:00:00</td>\n",
       "      <td>90001</td>\n",
       "      <td>49.428760</td>\n",
       "      <td>easyCredit-Haus / Beuthener Str.</td>\n",
       "      <td>4678.0</td>\n",
       "      <td>11.130899</td>\n",
       "      <td>2019-01-24 09:02:00</td>\n",
       "      <td>49.428760</td>\n",
       "      <td>easyCredit-Haus / Beuthener Str.</td>\n",
       "      <td>4678.0</td>\n",
       "      <td>11.130899</td>\n",
       "      <td>True</td>\n",
       "      <td>False</td>\n",
       "      <td>2.0</td>\n",
       "    </tr>\n",
       "    <tr>\n",
       "      <th>...</th>\n",
       "      <td>...</td>\n",
       "      <td>...</td>\n",
       "      <td>...</td>\n",
       "      <td>...</td>\n",
       "      <td>...</td>\n",
       "      <td>...</td>\n",
       "      <td>...</td>\n",
       "      <td>...</td>\n",
       "      <td>...</td>\n",
       "      <td>...</td>\n",
       "      <td>...</td>\n",
       "      <td>...</td>\n",
       "      <td>...</td>\n",
       "      <td>...</td>\n",
       "    </tr>\n",
       "    <tr>\n",
       "      <th>196173</th>\n",
       "      <td>2019-04-12 08:10:00</td>\n",
       "      <td>90859</td>\n",
       "      <td>49.453707</td>\n",
       "      <td>BIKE 90859</td>\n",
       "      <td>0.0</td>\n",
       "      <td>11.078858</td>\n",
       "      <td>2019-04-12 08:12:00</td>\n",
       "      <td>49.453707</td>\n",
       "      <td>BIKE 90859</td>\n",
       "      <td>0.0</td>\n",
       "      <td>11.078858</td>\n",
       "      <td>True</td>\n",
       "      <td>False</td>\n",
       "      <td>2.0</td>\n",
       "    </tr>\n",
       "    <tr>\n",
       "      <th>196174</th>\n",
       "      <td>2019-04-12 08:20:00</td>\n",
       "      <td>90859</td>\n",
       "      <td>49.453707</td>\n",
       "      <td>BIKE 90859</td>\n",
       "      <td>0.0</td>\n",
       "      <td>11.078858</td>\n",
       "      <td>2019-04-12 08:22:00</td>\n",
       "      <td>49.453707</td>\n",
       "      <td>BIKE 90859</td>\n",
       "      <td>0.0</td>\n",
       "      <td>11.078858</td>\n",
       "      <td>True</td>\n",
       "      <td>False</td>\n",
       "      <td>2.0</td>\n",
       "    </tr>\n",
       "    <tr>\n",
       "      <th>196175</th>\n",
       "      <td>2019-04-12 08:29:00</td>\n",
       "      <td>90859</td>\n",
       "      <td>49.453707</td>\n",
       "      <td>BIKE 90859</td>\n",
       "      <td>0.0</td>\n",
       "      <td>11.078858</td>\n",
       "      <td>2019-04-12 08:31:00</td>\n",
       "      <td>49.453707</td>\n",
       "      <td>BIKE 90859</td>\n",
       "      <td>0.0</td>\n",
       "      <td>11.078858</td>\n",
       "      <td>True</td>\n",
       "      <td>False</td>\n",
       "      <td>2.0</td>\n",
       "    </tr>\n",
       "    <tr>\n",
       "      <th>196176</th>\n",
       "      <td>2019-04-12 08:34:00</td>\n",
       "      <td>90859</td>\n",
       "      <td>49.453707</td>\n",
       "      <td>BIKE 90859</td>\n",
       "      <td>0.0</td>\n",
       "      <td>11.078858</td>\n",
       "      <td>2019-04-12 08:38:00</td>\n",
       "      <td>49.453707</td>\n",
       "      <td>BIKE 90859</td>\n",
       "      <td>0.0</td>\n",
       "      <td>11.078858</td>\n",
       "      <td>True</td>\n",
       "      <td>False</td>\n",
       "      <td>4.0</td>\n",
       "    </tr>\n",
       "    <tr>\n",
       "      <th>196177</th>\n",
       "      <td>2019-04-14 14:16:00</td>\n",
       "      <td>90859</td>\n",
       "      <td>49.453707</td>\n",
       "      <td>BIKE 90859</td>\n",
       "      <td>0.0</td>\n",
       "      <td>11.078858</td>\n",
       "      <td>2019-04-14 19:21:00</td>\n",
       "      <td>49.453691</td>\n",
       "      <td>Spitalgasse 5</td>\n",
       "      <td>0.0</td>\n",
       "      <td>11.078879</td>\n",
       "      <td>True</td>\n",
       "      <td>True</td>\n",
       "      <td>305.0</td>\n",
       "    </tr>\n",
       "  </tbody>\n",
       "</table>\n",
       "<p>196178 rows × 14 columns</p>\n",
       "</div>"
      ],
      "text/plain": [
       "                 Start Time  Bike Number  Latitude_start  \\\n",
       "0       2019-03-20 13:56:00        90000       49.435580   \n",
       "1       2019-04-12 08:25:00        90000       49.448249   \n",
       "2       2019-04-12 08:34:00        90000       49.448284   \n",
       "3       2019-01-22 07:30:00        90001       49.440970   \n",
       "4       2019-01-24 09:00:00        90001       49.428760   \n",
       "...                     ...          ...             ...   \n",
       "196173  2019-04-12 08:10:00        90859       49.453707   \n",
       "196174  2019-04-12 08:20:00        90859       49.453707   \n",
       "196175  2019-04-12 08:29:00        90859       49.453707   \n",
       "196176  2019-04-12 08:34:00        90859       49.453707   \n",
       "196177  2019-04-14 14:16:00        90859       49.453707   \n",
       "\n",
       "                             Place_start  Start Place_id  Longitude_start  \\\n",
       "0                      Hst. Dutzendteich          4635.0        11.116608   \n",
       "1                             BIKE 90000             0.0        11.067034   \n",
       "2                             BIKE 90000             0.0        11.067134   \n",
       "3           Allersberger Str. / Paulstr.          4665.0        11.090060   \n",
       "4       easyCredit-Haus / Beuthener Str.          4678.0        11.130899   \n",
       "...                                  ...             ...              ...   \n",
       "196173                        BIKE 90859             0.0        11.078858   \n",
       "196174                        BIKE 90859             0.0        11.078858   \n",
       "196175                        BIKE 90859             0.0        11.078858   \n",
       "196176                        BIKE 90859             0.0        11.078858   \n",
       "196177                        BIKE 90859             0.0        11.078858   \n",
       "\n",
       "                   End Time  Latitude_end                         Place_end  \\\n",
       "0       2019-03-20 14:15:00     49.435076                        BIKE 90000   \n",
       "1       2019-04-12 08:31:00     49.448284                        BIKE 90000   \n",
       "2       2019-04-12 08:36:00     49.448284                        BIKE 90000   \n",
       "3       2019-01-22 07:47:00     49.428760  easyCredit-Haus / Beuthener Str.   \n",
       "4       2019-01-24 09:02:00     49.428760  easyCredit-Haus / Beuthener Str.   \n",
       "...                     ...           ...                               ...   \n",
       "196173  2019-04-12 08:12:00     49.453707                        BIKE 90859   \n",
       "196174  2019-04-12 08:22:00     49.453707                        BIKE 90859   \n",
       "196175  2019-04-12 08:31:00     49.453707                        BIKE 90859   \n",
       "196176  2019-04-12 08:38:00     49.453707                        BIKE 90859   \n",
       "196177  2019-04-14 19:21:00     49.453691                     Spitalgasse 5   \n",
       "\n",
       "        End Place_id  Longitude_end  inside  Weekend  Duration  \n",
       "0                0.0      11.109361    True    False      19.0  \n",
       "1                0.0      11.067134    True    False       6.0  \n",
       "2                0.0      11.067134    True    False       2.0  \n",
       "3             4678.0      11.130899    True    False      17.0  \n",
       "4             4678.0      11.130899    True    False       2.0  \n",
       "...              ...            ...     ...      ...       ...  \n",
       "196173           0.0      11.078858    True    False       2.0  \n",
       "196174           0.0      11.078858    True    False       2.0  \n",
       "196175           0.0      11.078858    True    False       2.0  \n",
       "196176           0.0      11.078858    True    False       4.0  \n",
       "196177           0.0      11.078879    True     True     305.0  \n",
       "\n",
       "[196178 rows x 14 columns]"
      ]
     },
     "execution_count": 4,
     "metadata": {},
     "output_type": "execute_result"
    }
   ],
   "source": [
    "df.drop('Unnamed: 0', axis=1, inplace=True)\n",
    "df"
   ]
  },
  {
   "cell_type": "markdown",
   "metadata": {},
   "source": [
    "# Aggregation Statistics\n",
    "## 1. Mean\n",
    "### 1.a. With pandas"
   ]
  },
  {
   "cell_type": "code",
   "execution_count": 5,
   "metadata": {},
   "outputs": [
    {
     "data": {
      "text/plain": [
       "15.95708998970323"
      ]
     },
     "execution_count": 5,
     "metadata": {},
     "output_type": "execute_result"
    }
   ],
   "source": [
    "mean = df['Duration'].mean()\n",
    "mean"
   ]
  },
  {
   "cell_type": "markdown",
   "metadata": {},
   "source": [
    "### 1.b. With values as numpy array"
   ]
  },
  {
   "cell_type": "code",
   "execution_count": 6,
   "metadata": {},
   "outputs": [
    {
     "data": {
      "text/plain": [
       "15.95708998970323"
      ]
     },
     "execution_count": 6,
     "metadata": {},
     "output_type": "execute_result"
    }
   ],
   "source": [
    "mean_values = df['Duration'].values.mean()\n",
    "mean_values"
   ]
  },
  {
   "cell_type": "markdown",
   "metadata": {},
   "source": [
    "## 2. Standard deviation\n",
    "### 2.a. With pandas"
   ]
  },
  {
   "cell_type": "code",
   "execution_count": 7,
   "metadata": {},
   "outputs": [
    {
     "data": {
      "text/plain": [
       "46.85774047503392"
      ]
     },
     "execution_count": 7,
     "metadata": {},
     "output_type": "execute_result"
    }
   ],
   "source": [
    "deviation = df['Duration'].std()\n",
    "deviation"
   ]
  },
  {
   "cell_type": "markdown",
   "metadata": {},
   "source": [
    "### 2.b. With values as numpy array"
   ]
  },
  {
   "cell_type": "code",
   "execution_count": 8,
   "metadata": {},
   "outputs": [
    {
     "data": {
      "text/plain": [
       "46.85762104828835"
      ]
     },
     "execution_count": 8,
     "metadata": {},
     "output_type": "execute_result"
    }
   ],
   "source": [
    "deviation_values = df['Duration'].values.std()\n",
    "deviation_values"
   ]
  },
  {
   "cell_type": "code",
   "execution_count": 9,
   "metadata": {},
   "outputs": [
    {
     "data": {
      "text/plain": [
       "{'mean': 15.95708998970323, 'std': 46.85774047503392}"
      ]
     },
     "execution_count": 9,
     "metadata": {},
     "output_type": "execute_result"
    }
   ],
   "source": [
    "aggr_stats = {\n",
    "    \"mean\": mean,\n",
    "    \"std\": deviation\n",
    "}\n",
    "aggr_stats"
   ]
  },
  {
   "cell_type": "code",
   "execution_count": 10,
   "metadata": {},
   "outputs": [
    {
     "data": {
      "text/plain": [
       "23.016666666666666"
      ]
     },
     "execution_count": 10,
     "metadata": {},
     "output_type": "execute_result"
    }
   ],
   "source": [
    "df['Duration'].max() / 60"
   ]
  },
  {
   "cell_type": "code",
   "execution_count": 11,
   "metadata": {},
   "outputs": [
    {
     "data": {
      "text/plain": [
       "196178"
      ]
     },
     "execution_count": 11,
     "metadata": {},
     "output_type": "execute_result"
    }
   ],
   "source": [
    "len(df['Duration'])"
   ]
  },
  {
   "cell_type": "code",
   "execution_count": 12,
   "metadata": {},
   "outputs": [
    {
     "data": {
      "text/plain": [
       "<matplotlib.axes._subplots.AxesSubplot at 0x10d7c0510>"
      ]
     },
     "execution_count": 12,
     "metadata": {},
     "output_type": "execute_result"
    },
    {
     "data": {
      "image/png": "[encoded data removed]",
      "text/plain": [
       "<Figure size 432x288 with 1 Axes>"
      ]
     },
     "metadata": {
      "needs_background": "light"
     },
     "output_type": "display_data"
    }
   ],
   "source": [
    "df['Duration'].hist()"
   ]
  },
  {
   "cell_type": "code",
   "execution_count": 13,
   "metadata": {},
   "outputs": [],
   "source": [
    "df_most = df[df['Duration'] < 180]"
   ]
  },
  {
   "cell_type": "code",
   "execution_count": 14,
   "metadata": {},
   "outputs": [
    {
     "data": {
      "text/plain": [
       "<matplotlib.axes._subplots.AxesSubplot at 0x103189050>"
      ]
     },
     "execution_count": 14,
     "metadata": {},
     "output_type": "execute_result"
    },
    {
     "data": {
      "image/png": "[encoded data removed]",
      "text/plain": [
       "<Figure size 432x288 with 1 Axes>"
      ]
     },
     "metadata": {
      "needs_background": "light"
     },
     "output_type": "display_data"
    }
   ],
   "source": [
    "df_most['Duration'].hist()"
   ]
  },
  {
   "cell_type": "code",
   "execution_count": 15,
   "metadata": {},
   "outputs": [
    {
     "data": {
      "text/plain": [
       "193258"
      ]
     },
     "execution_count": 15,
     "metadata": {},
     "output_type": "execute_result"
    }
   ],
   "source": [
    "len(df_most['Duration'])"
   ]
  },
  {
   "cell_type": "code",
   "execution_count": 16,
   "metadata": {},
   "outputs": [
    {
     "data": {
      "text/plain": [
       "2920"
      ]
     },
     "execution_count": 16,
     "metadata": {},
     "output_type": "execute_result"
    }
   ],
   "source": [
    "len(df['Duration']) - len(df_most['Duration'])"
   ]
  },
  {
   "cell_type": "code",
   "execution_count": 17,
   "metadata": {},
   "outputs": [
    {
     "data": {
      "text/plain": [
       "2.0"
      ]
     },
     "execution_count": 17,
     "metadata": {},
     "output_type": "execute_result"
    }
   ],
   "source": [
    "df['Duration'].min()"
   ]
  },
  {
   "cell_type": "code",
   "execution_count": 18,
   "metadata": {},
   "outputs": [
    {
     "data": {
      "text/plain": [
       "0.0308628041749064"
      ]
     },
     "execution_count": 18,
     "metadata": {},
     "output_type": "execute_result"
    }
   ],
   "source": [
    "12579/407578"
   ]
  },
  {
   "cell_type": "code",
   "execution_count": 22,
   "metadata": {},
   "outputs": [
    {
     "data": {
      "text/html": [
       "<div>\n",
       "<style scoped>\n",
       "    .dataframe tbody tr th:only-of-type {\n",
       "        vertical-align: middle;\n",
       "    }\n",
       "\n",
       "    .dataframe tbody tr th {\n",
       "        vertical-align: top;\n",
       "    }\n",
       "\n",
       "    .dataframe thead th {\n",
       "        text-align: right;\n",
       "    }\n",
       "</style>\n",
       "<table border=\"1\" class=\"dataframe\">\n",
       "  <thead>\n",
       "    <tr style=\"text-align: right;\">\n",
       "      <th></th>\n",
       "      <th>Start Time</th>\n",
       "      <th>Bike Number</th>\n",
       "      <th>Latitude_start</th>\n",
       "      <th>Place_start</th>\n",
       "      <th>Start Place_id</th>\n",
       "      <th>Longitude_start</th>\n",
       "      <th>End Time</th>\n",
       "      <th>Latitude_end</th>\n",
       "      <th>Place_end</th>\n",
       "      <th>End Place_id</th>\n",
       "      <th>Longitude_end</th>\n",
       "      <th>inside</th>\n",
       "      <th>Weekend</th>\n",
       "      <th>Duration</th>\n",
       "    </tr>\n",
       "  </thead>\n",
       "  <tbody>\n",
       "    <tr>\n",
       "      <th>80</th>\n",
       "      <td>2019-03-23 08:41:00</td>\n",
       "      <td>90001</td>\n",
       "      <td>49.440970</td>\n",
       "      <td>Allersberger Str. / Paulstr.</td>\n",
       "      <td>4665.0</td>\n",
       "      <td>11.090060</td>\n",
       "      <td>2019-03-23 16:46:00</td>\n",
       "      <td>49.440970</td>\n",
       "      <td>Allersberger Str. / Paulstr.</td>\n",
       "      <td>4665.0</td>\n",
       "      <td>11.090060</td>\n",
       "      <td>True</td>\n",
       "      <td>True</td>\n",
       "      <td>485.0</td>\n",
       "    </tr>\n",
       "    <tr>\n",
       "      <th>140</th>\n",
       "      <td>2019-06-16 12:11:00</td>\n",
       "      <td>90001</td>\n",
       "      <td>49.453567</td>\n",
       "      <td>Bärenschanze</td>\n",
       "      <td>4631.0</td>\n",
       "      <td>11.048017</td>\n",
       "      <td>2019-06-16 17:27:00</td>\n",
       "      <td>49.453062</td>\n",
       "      <td>BIKE 90001</td>\n",
       "      <td>0.0</td>\n",
       "      <td>11.049778</td>\n",
       "      <td>True</td>\n",
       "      <td>True</td>\n",
       "      <td>316.0</td>\n",
       "    </tr>\n",
       "    <tr>\n",
       "      <th>259</th>\n",
       "      <td>2019-09-18 09:40:00</td>\n",
       "      <td>90001</td>\n",
       "      <td>49.446707</td>\n",
       "      <td>BIKE 90001</td>\n",
       "      <td>0.0</td>\n",
       "      <td>11.067672</td>\n",
       "      <td>2019-09-18 13:56:00</td>\n",
       "      <td>49.478493</td>\n",
       "      <td>Herrnhütte</td>\n",
       "      <td>4657.0</td>\n",
       "      <td>11.110039</td>\n",
       "      <td>True</td>\n",
       "      <td>False</td>\n",
       "      <td>256.0</td>\n",
       "    </tr>\n",
       "    <tr>\n",
       "      <th>300</th>\n",
       "      <td>2019-10-01 09:41:00</td>\n",
       "      <td>90001</td>\n",
       "      <td>49.438658</td>\n",
       "      <td>Gustav-Adolf-Str.</td>\n",
       "      <td>4647.0</td>\n",
       "      <td>11.035631</td>\n",
       "      <td>2019-10-01 13:29:00</td>\n",
       "      <td>49.449218</td>\n",
       "      <td>BIKE 90001</td>\n",
       "      <td>0.0</td>\n",
       "      <td>11.074996</td>\n",
       "      <td>True</td>\n",
       "      <td>False</td>\n",
       "      <td>228.0</td>\n",
       "    </tr>\n",
       "    <tr>\n",
       "      <th>417</th>\n",
       "      <td>2019-11-26 00:59:00</td>\n",
       "      <td>90001</td>\n",
       "      <td>49.443982</td>\n",
       "      <td>St. Leonhard</td>\n",
       "      <td>4623.0</td>\n",
       "      <td>11.054495</td>\n",
       "      <td>2019-11-26 07:28:00</td>\n",
       "      <td>49.443982</td>\n",
       "      <td>St. Leonhard</td>\n",
       "      <td>4623.0</td>\n",
       "      <td>11.054495</td>\n",
       "      <td>True</td>\n",
       "      <td>False</td>\n",
       "      <td>389.0</td>\n",
       "    </tr>\n",
       "    <tr>\n",
       "      <th>...</th>\n",
       "      <td>...</td>\n",
       "      <td>...</td>\n",
       "      <td>...</td>\n",
       "      <td>...</td>\n",
       "      <td>...</td>\n",
       "      <td>...</td>\n",
       "      <td>...</td>\n",
       "      <td>...</td>\n",
       "      <td>...</td>\n",
       "      <td>...</td>\n",
       "      <td>...</td>\n",
       "      <td>...</td>\n",
       "      <td>...</td>\n",
       "      <td>...</td>\n",
       "    </tr>\n",
       "    <tr>\n",
       "      <th>196076</th>\n",
       "      <td>2019-04-11 08:08:00</td>\n",
       "      <td>90857</td>\n",
       "      <td>49.428085</td>\n",
       "      <td>Südwestpark (Zentral)</td>\n",
       "      <td>4654.0</td>\n",
       "      <td>11.019732</td>\n",
       "      <td>2019-04-11 14:41:00</td>\n",
       "      <td>49.428085</td>\n",
       "      <td>Südwestpark (Zentral)</td>\n",
       "      <td>4654.0</td>\n",
       "      <td>11.019732</td>\n",
       "      <td>True</td>\n",
       "      <td>False</td>\n",
       "      <td>393.0</td>\n",
       "    </tr>\n",
       "    <tr>\n",
       "      <th>196107</th>\n",
       "      <td>2019-03-29 10:19:00</td>\n",
       "      <td>90858</td>\n",
       "      <td>49.447098</td>\n",
       "      <td>U-Bhf Opernhaus (Germanisches Nationalmuseum)</td>\n",
       "      <td>4613.0</td>\n",
       "      <td>11.074707</td>\n",
       "      <td>2019-03-29 17:00:00</td>\n",
       "      <td>49.447080</td>\n",
       "      <td>BIKE 90858</td>\n",
       "      <td>0.0</td>\n",
       "      <td>11.074647</td>\n",
       "      <td>True</td>\n",
       "      <td>False</td>\n",
       "      <td>401.0</td>\n",
       "    </tr>\n",
       "    <tr>\n",
       "      <th>196108</th>\n",
       "      <td>2019-03-31 11:11:00</td>\n",
       "      <td>90858</td>\n",
       "      <td>49.447080</td>\n",
       "      <td>BIKE 90858</td>\n",
       "      <td>0.0</td>\n",
       "      <td>11.074647</td>\n",
       "      <td>2019-03-31 16:49:00</td>\n",
       "      <td>49.447081</td>\n",
       "      <td>BIKE 90858</td>\n",
       "      <td>0.0</td>\n",
       "      <td>11.074709</td>\n",
       "      <td>True</td>\n",
       "      <td>True</td>\n",
       "      <td>338.0</td>\n",
       "    </tr>\n",
       "    <tr>\n",
       "      <th>196139</th>\n",
       "      <td>2019-04-15 05:29:00</td>\n",
       "      <td>90858</td>\n",
       "      <td>49.440970</td>\n",
       "      <td>Allersberger Str. / Paulstr.</td>\n",
       "      <td>4665.0</td>\n",
       "      <td>11.090060</td>\n",
       "      <td>2019-04-15 15:27:00</td>\n",
       "      <td>49.440970</td>\n",
       "      <td>Allersberger Str. / Paulstr.</td>\n",
       "      <td>4665.0</td>\n",
       "      <td>11.090060</td>\n",
       "      <td>True</td>\n",
       "      <td>False</td>\n",
       "      <td>598.0</td>\n",
       "    </tr>\n",
       "    <tr>\n",
       "      <th>196177</th>\n",
       "      <td>2019-04-14 14:16:00</td>\n",
       "      <td>90859</td>\n",
       "      <td>49.453707</td>\n",
       "      <td>BIKE 90859</td>\n",
       "      <td>0.0</td>\n",
       "      <td>11.078858</td>\n",
       "      <td>2019-04-14 19:21:00</td>\n",
       "      <td>49.453691</td>\n",
       "      <td>Spitalgasse 5</td>\n",
       "      <td>0.0</td>\n",
       "      <td>11.078879</td>\n",
       "      <td>True</td>\n",
       "      <td>True</td>\n",
       "      <td>305.0</td>\n",
       "    </tr>\n",
       "  </tbody>\n",
       "</table>\n",
       "<p>2904 rows × 14 columns</p>\n",
       "</div>"
      ],
      "text/plain": [
       "                 Start Time  Bike Number  Latitude_start  \\\n",
       "80      2019-03-23 08:41:00        90001       49.440970   \n",
       "140     2019-06-16 12:11:00        90001       49.453567   \n",
       "259     2019-09-18 09:40:00        90001       49.446707   \n",
       "300     2019-10-01 09:41:00        90001       49.438658   \n",
       "417     2019-11-26 00:59:00        90001       49.443982   \n",
       "...                     ...          ...             ...   \n",
       "196076  2019-04-11 08:08:00        90857       49.428085   \n",
       "196107  2019-03-29 10:19:00        90858       49.447098   \n",
       "196108  2019-03-31 11:11:00        90858       49.447080   \n",
       "196139  2019-04-15 05:29:00        90858       49.440970   \n",
       "196177  2019-04-14 14:16:00        90859       49.453707   \n",
       "\n",
       "                                            Place_start  Start Place_id  \\\n",
       "80                         Allersberger Str. / Paulstr.          4665.0   \n",
       "140                                        Bärenschanze          4631.0   \n",
       "259                                          BIKE 90001             0.0   \n",
       "300                                   Gustav-Adolf-Str.          4647.0   \n",
       "417                                        St. Leonhard          4623.0   \n",
       "...                                                 ...             ...   \n",
       "196076                            Südwestpark (Zentral)          4654.0   \n",
       "196107  U-Bhf Opernhaus (Germanisches Nationalmuseum)            4613.0   \n",
       "196108                                       BIKE 90858             0.0   \n",
       "196139                     Allersberger Str. / Paulstr.          4665.0   \n",
       "196177                                       BIKE 90859             0.0   \n",
       "\n",
       "        Longitude_start             End Time  Latitude_end  \\\n",
       "80            11.090060  2019-03-23 16:46:00     49.440970   \n",
       "140           11.048017  2019-06-16 17:27:00     49.453062   \n",
       "259           11.067672  2019-09-18 13:56:00     49.478493   \n",
       "300           11.035631  2019-10-01 13:29:00     49.449218   \n",
       "417           11.054495  2019-11-26 07:28:00     49.443982   \n",
       "...                 ...                  ...           ...   \n",
       "196076        11.019732  2019-04-11 14:41:00     49.428085   \n",
       "196107        11.074707  2019-03-29 17:00:00     49.447080   \n",
       "196108        11.074647  2019-03-31 16:49:00     49.447081   \n",
       "196139        11.090060  2019-04-15 15:27:00     49.440970   \n",
       "196177        11.078858  2019-04-14 19:21:00     49.453691   \n",
       "\n",
       "                           Place_end  End Place_id  Longitude_end  inside  \\\n",
       "80      Allersberger Str. / Paulstr.        4665.0      11.090060    True   \n",
       "140                       BIKE 90001           0.0      11.049778    True   \n",
       "259                       Herrnhütte        4657.0      11.110039    True   \n",
       "300                       BIKE 90001           0.0      11.074996    True   \n",
       "417                     St. Leonhard        4623.0      11.054495    True   \n",
       "...                              ...           ...            ...     ...   \n",
       "196076         Südwestpark (Zentral)        4654.0      11.019732    True   \n",
       "196107                    BIKE 90858           0.0      11.074647    True   \n",
       "196108                    BIKE 90858           0.0      11.074709    True   \n",
       "196139  Allersberger Str. / Paulstr.        4665.0      11.090060    True   \n",
       "196177                 Spitalgasse 5           0.0      11.078879    True   \n",
       "\n",
       "        Weekend  Duration  \n",
       "80         True     485.0  \n",
       "140        True     316.0  \n",
       "259       False     256.0  \n",
       "300       False     228.0  \n",
       "417       False     389.0  \n",
       "...         ...       ...  \n",
       "196076    False     393.0  \n",
       "196107    False     401.0  \n",
       "196108     True     338.0  \n",
       "196139    False     598.0  \n",
       "196177     True     305.0  \n",
       "\n",
       "[2904 rows x 14 columns]"
      ]
     },
     "execution_count": 22,
     "metadata": {},
     "output_type": "execute_result"
    }
   ],
   "source": [
    "df[df[\"Duration\"] > 180] "
   ]
  },
  {
   "cell_type": "code",
   "execution_count": 28,
   "metadata": {},
   "outputs": [
    {
     "data": {
      "text/plain": [
       "139.0"
      ]
     },
     "execution_count": 28,
     "metadata": {},
     "output_type": "execute_result"
    }
   ],
   "source": [
    "df[\"Duration\"].quantile(0.98)"
   ]
  },
  {
   "cell_type": "code",
   "execution_count": 29,
   "metadata": {},
   "outputs": [
    {
     "name": "stdout",
     "output_type": "stream",
     "text": [
      "<class 'pandas.core.frame.DataFrame'>\n",
      "RangeIndex: 196178 entries, 0 to 196177\n",
      "Data columns (total 14 columns):\n",
      " #   Column           Non-Null Count   Dtype  \n",
      "---  ------           --------------   -----  \n",
      " 0   Start Time       196178 non-null  object \n",
      " 1   Bike Number      196178 non-null  int64  \n",
      " 2   Latitude_start   196178 non-null  float64\n",
      " 3   Place_start      196178 non-null  object \n",
      " 4   Start Place_id   196178 non-null  float64\n",
      " 5   Longitude_start  196178 non-null  float64\n",
      " 6   End Time         196178 non-null  object \n",
      " 7   Latitude_end     196178 non-null  float64\n",
      " 8   Place_end        196178 non-null  object \n",
      " 9   End Place_id     196178 non-null  float64\n",
      " 10  Longitude_end    196178 non-null  float64\n",
      " 11  inside           196178 non-null  bool   \n",
      " 12  Weekend          196178 non-null  bool   \n",
      " 13  Duration         196178 non-null  float64\n",
      "dtypes: bool(2), float64(7), int64(1), object(4)\n",
      "memory usage: 18.3+ MB\n"
     ]
    }
   ],
   "source": [
    "df.info()\n"
   ]
  },
  {
   "cell_type": "code",
   "execution_count": 37,
   "metadata": {},
   "outputs": [
    {
     "data": {
      "text/plain": [
       "pandas._libs.tslibs.timestamps.Timestamp"
      ]
     },
     "execution_count": 37,
     "metadata": {},
     "output_type": "execute_result"
    }
   ],
   "source": [
    "type(df[\"Start Time\"][0])"
   ]
  },
  {
   "cell_type": "code",
   "execution_count": 36,
   "metadata": {},
   "outputs": [],
   "source": [
    "df[\"Start Time\"] = pd.to_datetime(df[\"Start Time\"])"
   ]
  },
  {
   "cell_type": "code",
   "execution_count": 45,
   "metadata": {},
   "outputs": [],
   "source": [
    "df[\"month\"] = df[\"Start Time\"].dt.month\n"
   ]
  },
  {
   "cell_type": "code",
   "execution_count": 46,
   "metadata": {},
   "outputs": [],
   "source": [
    "df[\"day\"] = df[\"Start Time\"].dt.day"
   ]
  },
  {
   "cell_type": "code",
   "execution_count": 47,
   "metadata": {},
   "outputs": [],
   "source": [
    "df[\"hour\"] = df[\"Start Time\"].dt.hour"
   ]
  },
  {
   "cell_type": "code",
   "execution_count": 58,
   "metadata": {},
   "outputs": [
    {
     "data": {
      "text/plain": [
       "<matplotlib.axes._subplots.AxesSubplot at 0x10319ba50>"
      ]
     },
     "execution_count": 58,
     "metadata": {},
     "output_type": "execute_result"
    },
    {
     "data": {
      "image/png": "[encoded data removed]",
      "text/plain": [
       "<Figure size 432x288 with 1 Axes>"
      ]
     },
     "metadata": {
      "needs_background": "light"
     },
     "output_type": "display_data"
    }
   ],
   "source": [
    "df[[\"Duration\", \"month\"]].groupby(by=\"month\").mean().plot.barh()"
   ]
  },
  {
   "cell_type": "code",
   "execution_count": 62,
   "metadata": {},
   "outputs": [],
   "source": [
    "counts_month = df[[\"Duration\", \"month\"]].groupby(by=\"month\").count()"
   ]
  },
  {
   "cell_type": "code",
   "execution_count": 69,
   "metadata": {},
   "outputs": [
    {
     "data": {
      "image/png": "[encoded data removed]",
      "text/plain": [
       "<Figure size 1152x1152 with 1 Axes>"
      ]
     },
     "metadata": {
      "needs_background": "light"
     },
     "output_type": "display_data"
    }
   ],
   "source": [
    "fig = counts_month.plot(kind='barh',  figsize=(16, 16), fontsize=22).get_figure()\n",
    "fig.savefig('test.png')"
   ]
  },
  {
   "cell_type": "code",
   "execution_count": 99,
   "metadata": {},
   "outputs": [
    {
     "data": {
      "text/plain": [
       "{'blablablablablablablablablabla': 1}"
      ]
     },
     "execution_count": 99,
     "metadata": {},
     "output_type": "execute_result"
    }
   ],
   "source": [
    "test = {}\n",
    "test[\"blablablablablablablablablabla\"] = 1\n",
    "test"
   ]
  },
  {
   "cell_type": "code",
   "execution_count": 100,
   "metadata": {},
   "outputs": [
    {
     "ename": "KeyError",
     "evalue": "'bla'",
     "output_type": "error",
     "traceback": [
      "\u001b[0;31m---------------------------------------------------------------------------\u001b[0m",
      "\u001b[0;31mKeyError\u001b[0m                                  Traceback (most recent call last)",
      "\u001b[0;32m<ipython-input-100-d643752b24b0>\u001b[0m in \u001b[0;36m<module>\u001b[0;34m\u001b[0m\n\u001b[0;32m----> 1\u001b[0;31m \u001b[0mtest\u001b[0m\u001b[0;34m[\u001b[0m\u001b[0;34m\"bla\"\u001b[0m\u001b[0;34m]\u001b[0m\u001b[0;34m\u001b[0m\u001b[0;34m\u001b[0m\u001b[0m\n\u001b[0m",
      "\u001b[0;31mKeyError\u001b[0m: 'bla'"
     ]
    }
   ],
   "source": [
    "test[\"bla\"]"
   ]
  },
  {
   "cell_type": "code",
   "execution_count": 101,
   "metadata": {},
   "outputs": [
    {
     "data": {
      "text/plain": [
       "{'blablablablablablablablablabla': 1, 'blubb': 5}"
      ]
     },
     "execution_count": 101,
     "metadata": {},
     "output_type": "execute_result"
    }
   ],
   "source": [
    "test[\"blubb\"] = 5\n",
    "test"
   ]
  },
  {
   "cell_type": "code",
   "execution_count": 102,
   "metadata": {},
   "outputs": [
    {
     "data": {
      "text/plain": [
       "<matplotlib.axes._subplots.AxesSubplot at 0x11030ae10>"
      ]
     },
     "execution_count": 102,
     "metadata": {},
     "output_type": "execute_result"
    },
    {
     "data": {
      "image/png": "[encoded data removed]",
      "text/plain": [
       "<Figure size 432x288 with 1 Axes>"
      ]
     },
     "metadata": {
      "needs_background": "light"
     },
     "output_type": "display_data"
    }
   ],
   "source": [
    "pd.DataFrame.from_dict(test, orient=\"index\").plot.barh()"
   ]
  },
  {
   "cell_type": "code",
   "execution_count": null,
   "metadata": {},
   "outputs": [],
   "source": []
  }
 ],
 "metadata": {
  "kernelspec": {
   "display_name": "Python 3",
   "language": "python",
   "name": "python3"
  },
  "language_info": {
   "codemirror_mode": {
    "name": "ipython",
    "version": 3
   },
   "file_extension": ".py",
   "mimetype": "text/x-python",
   "name": "python",
   "nbconvert_exporter": "python",
   "pygments_lexer": "ipython3",
   "version": "3.7.6"
  }
 },
 "nbformat": 4,
 "nbformat_minor": 4
}
